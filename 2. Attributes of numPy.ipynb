{
 "cells": [
  {
   "cell_type": "markdown",
   "metadata": {},
   "source": [
    "# Attributes of numPy"
   ]
  },
  {
   "cell_type": "code",
   "execution_count": 1,
   "metadata": {},
   "outputs": [
    {
     "name": "stdout",
     "output_type": "stream",
     "text": [
      "[[[7 6 8 8 3]\n",
      "  [1 7 7 2 7]\n",
      "  [3 6 5 9 0]\n",
      "  [4 9 0 3 3]]\n",
      "\n",
      " [[7 5 8 3 8]\n",
      "  [0 7 1 1 3]\n",
      "  [1 0 0 7 7]\n",
      "  [6 6 9 2 8]]\n",
      "\n",
      " [[4 4 0 3 2]\n",
      "  [8 9 1 6 8]\n",
      "  [4 6 3 1 9]\n",
      "  [0 9 6 6 3]]]\n",
      "\n",
      "number of dimessions of the array: 3\n",
      "\n",
      "shape of the array: (3, 4, 5)\n",
      "\n",
      "size of the array: 60\n",
      "\n",
      "data type of the array: int64\n",
      "\n",
      "size of each elements of the array in bytes: 8\n",
      "\n",
      "size of the whole array in bytes:  480\n"
     ]
    }
   ],
   "source": [
    "import numpy as np\n",
    "x = np.random.randint(10, size = (3,4,5))\n",
    "print(x)\n",
    "\n",
    "print()\n",
    "#number of dimensions of the array\n",
    "num_dimenssions = x.ndim\n",
    "print((\"number of dimessions of the array:\"),num_dimenssions)\n",
    "\n",
    "print()\n",
    "#shape of the array\n",
    "num_shape = x.shape\n",
    "print(\"shape of the array:\", num_shape)\n",
    "\n",
    "print()\n",
    "#size of the array\n",
    "num_size = x.size\n",
    "print(\"size of the array:\", num_size)\n",
    "\n",
    "print()\n",
    "#data type of the array\n",
    "data_type = x.dtype\n",
    "print(\"data type of the array:\", data_type)\n",
    "\n",
    "print()\n",
    "#size of each array elements\n",
    "array_bitsize = x.itemsize\n",
    "print(\"size of each elements of the array in bytes:\", array_bitsize)\n",
    "\n",
    "print()\n",
    "#size of the whole array in bytes\n",
    "array_size = x.nbytes\n",
    "print(\"size of the whole array in bytes: \", array_size)"
   ]
  }
 ],
 "metadata": {
  "kernelspec": {
   "display_name": "Python 3",
   "language": "python",
   "name": "python3"
  },
  "language_info": {
   "codemirror_mode": {
    "name": "ipython",
    "version": 3
   },
   "file_extension": ".py",
   "mimetype": "text/x-python",
   "name": "python",
   "nbconvert_exporter": "python",
   "pygments_lexer": "ipython3",
   "version": "3.8.3"
  }
 },
 "nbformat": 4,
 "nbformat_minor": 4
}
