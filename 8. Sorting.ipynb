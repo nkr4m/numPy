{
 "cells": [
  {
   "cell_type": "markdown",
   "metadata": {},
   "source": [
    "# Sorting 1d"
   ]
  },
  {
   "cell_type": "code",
   "execution_count": 1,
   "metadata": {},
   "outputs": [
    {
     "name": "stdout",
     "output_type": "stream",
     "text": [
      "[1, 6, 5, 4, 3, 2, 9]\n",
      "\n",
      "[1 2 3 4 5 6 9]\n",
      "\n",
      "[0 5 4 3 2 1 6]\n"
     ]
    }
   ],
   "source": [
    "import numpy as np\n",
    "x = [1,6,5,4,3,2,9]\n",
    "print(x)\n",
    "\n",
    "print()\n",
    "print(np.sort(x))\n",
    "\n",
    "#Return the indices of sorted array\n",
    "print()\n",
    "print(np.argsort(x))\n",
    "\n"
   ]
  },
  {
   "cell_type": "markdown",
   "metadata": {},
   "source": [
    "# Sorting in 2d"
   ]
  },
  {
   "cell_type": "code",
   "execution_count": 2,
   "metadata": {},
   "outputs": [
    {
     "name": "stdout",
     "output_type": "stream",
     "text": [
      "[[6 3 7 4]\n",
      " [6 9 2 6]\n",
      " [7 4 3 7]]\n",
      "\n",
      "[[6 3 2 4]\n",
      " [6 4 3 6]\n",
      " [7 9 7 7]]\n",
      "[[0 0 1 0]\n",
      " [1 2 2 1]\n",
      " [2 1 0 2]]\n",
      "\n",
      "\n",
      "[[3 4 6 7]\n",
      " [2 6 6 9]\n",
      " [3 4 7 7]]\n",
      "[[1 3 0 2]\n",
      " [2 0 3 1]\n",
      " [2 1 0 3]]\n"
     ]
    }
   ],
   "source": [
    "rand = np.random.RandomState(42)\n",
    "x = rand.randint(0,10,(3,4))\n",
    "print(x)\n",
    "\n",
    "print()\n",
    "#sorting along rows\n",
    "r = np.sort(x, axis = 0)\n",
    "\n",
    "s = np.argsort(x, axis = 0)\n",
    "print(r)\n",
    "print(s)\n",
    "\n",
    "print()\n",
    "print()\n",
    "#sorting along coloumn\n",
    "c = np.sort(x,axis = 1)\n",
    "d = np.argsort(x, axis = 1)\n",
    "\n",
    "print(c)\n",
    "print(d)"
   ]
  }
 ],
 "metadata": {
  "kernelspec": {
   "display_name": "Python 3",
   "language": "python",
   "name": "python3"
  },
  "language_info": {
   "codemirror_mode": {
    "name": "ipython",
    "version": 3
   },
   "file_extension": ".py",
   "mimetype": "text/x-python",
   "name": "python",
   "nbconvert_exporter": "python",
   "pygments_lexer": "ipython3",
   "version": "3.8.3"
  }
 },
 "nbformat": 4,
 "nbformat_minor": 4
}
