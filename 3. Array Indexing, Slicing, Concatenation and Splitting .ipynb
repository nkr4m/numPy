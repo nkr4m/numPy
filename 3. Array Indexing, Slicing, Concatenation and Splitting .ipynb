{
 "cells": [
  {
   "cell_type": "markdown",
   "metadata": {},
   "source": [
    "# Indexing, Slicing, Reshaping, Concatenation of array"
   ]
  },
  {
   "cell_type": "markdown",
   "metadata": {},
   "source": [
    "## Array indexing\n",
    "#### accesing 1d arrays"
   ]
  },
  {
   "cell_type": "code",
   "execution_count": 1,
   "metadata": {},
   "outputs": [
    {
     "name": "stdout",
     "output_type": "stream",
     "text": [
      "1\n",
      "2\n",
      "\n",
      "5\n",
      "4\n"
     ]
    }
   ],
   "source": [
    "import numpy as np\n",
    "x = np.array([1,2,3,4,5])\n",
    "\n",
    "#accessing the elements of the array\n",
    "print(x[0])\n",
    "print(x[1])\n",
    "\n",
    "print()\n",
    "#access from the end\n",
    "print(x[-1])\n",
    "print(x[-2])\n"
   ]
  },
  {
   "cell_type": "markdown",
   "metadata": {},
   "source": [
    "#### accessing 2d arrays"
   ]
  },
  {
   "cell_type": "code",
   "execution_count": 2,
   "metadata": {},
   "outputs": [
    {
     "name": "stdout",
     "output_type": "stream",
     "text": [
      "[[1 2 3 4]\n",
      " [5 6 7 8]]\n",
      "\n",
      "1\n",
      "4\n",
      "\n",
      "[[10  2  3  4]\n",
      " [ 5  6  7  8]]\n"
     ]
    }
   ],
   "source": [
    "import numpy as np\n",
    "y = np.array([(1,2,3,4), (5,6,7,8)])\n",
    "print(y)\n",
    "\n",
    "print()\n",
    "#access 2d array elements\n",
    "print(y[0,0])\n",
    "print(y[0,-1])\n",
    "\n",
    "print()\n",
    "#modify array value\n",
    "y[0,0] = 10\n",
    "print(y)"
   ]
  },
  {
   "cell_type": "markdown",
   "metadata": {},
   "source": [
    "## Array slicing"
   ]
  },
  {
   "cell_type": "markdown",
   "metadata": {},
   "source": [
    "#### slicing 1d arrays"
   ]
  },
  {
   "cell_type": "code",
   "execution_count": 3,
   "metadata": {},
   "outputs": [
    {
     "name": "stdout",
     "output_type": "stream",
     "text": [
      "[0 1 2 3 4 5 6 7 8 9]\n",
      "\n",
      "[0 1 2 3 4]\n",
      "\n",
      "[5 6 7 8 9]\n",
      "\n",
      "[1 3 5 7 9]\n"
     ]
    }
   ],
   "source": [
    "import numpy as np\n",
    "x = np.array([0,1,2,3,4,5,6,7,8,9])\n",
    "print(x)\n",
    "\n",
    "print()\n",
    "#first 5 elements\n",
    "print(x[:5:])\n",
    "\n",
    "print()\n",
    "#elements after 5\n",
    "print(x[5::])\n",
    "\n",
    "print()\n",
    "#every other elemnts starting with index 1\n",
    "print(x[1::2])"
   ]
  },
  {
   "cell_type": "markdown",
   "metadata": {},
   "source": [
    "#### slicing 2d arrays"
   ]
  },
  {
   "cell_type": "code",
   "execution_count": 4,
   "metadata": {},
   "outputs": [
    {
     "name": "stdout",
     "output_type": "stream",
     "text": [
      "[[ 1  2  3  4  5]\n",
      " [ 6  7  8  9 10]]\n",
      "\n",
      "[[1 3]\n",
      " [6 8]]\n",
      "\n",
      "[[ 5  4  3  2  1]\n",
      " [10  9  8  7  6]]\n",
      "\n",
      "[1 6]\n",
      "\n",
      "[1 2 3 4 5]\n"
     ]
    }
   ],
   "source": [
    "# import numpy as np\n",
    "x = np.array(([1,2,3,4,5], [6,7,8,9,10]))\n",
    "print(x)\n",
    "\n",
    "print()\n",
    "#slicing a 2d array x[starting row : ending row : step size  ,    start value : end value : step size]\n",
    "print(x[0:2:1, 0:4:2])\n",
    "\n",
    "print()\n",
    "#reversed 2d array\n",
    "print(x[::, ::-1])\n",
    "\n",
    "print()\n",
    "#accesing first coloum\n",
    "print(x[:, 0])\n",
    "\n",
    "print()\n",
    "#accesing first row\n",
    "print(x[0, :])"
   ]
  },
  {
   "cell_type": "markdown",
   "metadata": {},
   "source": [
    "#### array slicing in numPy dosen't create copies but manupulates the original data as well\n"
   ]
  },
  {
   "cell_type": "code",
   "execution_count": 5,
   "metadata": {},
   "outputs": [
    {
     "name": "stdout",
     "output_type": "stream",
     "text": [
      "[[ 1  2  3  4]\n",
      " [ 5  6  7  8]\n",
      " [ 9 10 11 12]]\n",
      "\n",
      "[[ 1  3]\n",
      " [ 9 11]]\n",
      "\n",
      "[[99  3]\n",
      " [ 9 11]]\n",
      "\n",
      "[[99  2  3  4]\n",
      " [ 5  6  7  8]\n",
      " [ 9 10 11 12]]\n"
     ]
    }
   ],
   "source": [
    "import numpy as np\n",
    "x = np.array(([1,2,3,4], [5,6,7,8], [9,10,11,12]))\n",
    "print(x)\n",
    "\n",
    "#creating a new array with copy\n",
    "print()\n",
    "sub_array = x[::2, ::2]\n",
    "print(sub_array)\n",
    "\n",
    "#changing the index 0,0 of new array\n",
    "print()\n",
    "sub_array[0,0] = 99\n",
    "print(sub_array)\n",
    "\n",
    "#the changes gets reflected on the original array as well\n",
    "print()\n",
    "print(x)\n",
    "\n"
   ]
  },
  {
   "cell_type": "markdown",
   "metadata": {},
   "source": [
    "#### Explicit copy of the array can also be made"
   ]
  },
  {
   "cell_type": "code",
   "execution_count": 6,
   "metadata": {},
   "outputs": [
    {
     "name": "stdout",
     "output_type": "stream",
     "text": [
      "[[ 1  2  3  4]\n",
      " [ 4  5  6  7]\n",
      " [ 7  8  9 10]]\n",
      "\n",
      "[[99  3]\n",
      " [ 7  9]]\n",
      "\n",
      "[[ 1  2  3  4]\n",
      " [ 4  5  6  7]\n",
      " [ 7  8  9 10]]\n"
     ]
    }
   ],
   "source": [
    "import numpy as np\n",
    "x = np.array(([1,2,3,4], [4,5,6,7], [7,8,9,10]))\n",
    "print(x)\n",
    "\n",
    "#copy array command in numpy\n",
    "sub_array_copy = x[::2, ::2].copy()\n",
    "\n",
    "#accessing and changing a value in copied array\n",
    "sub_array_copy[0,0] = 99\n",
    "\n",
    "#sub array is changed\n",
    "print()\n",
    "print(sub_array_copy)\n",
    "\n",
    "#value of the former array remains unchanged\n",
    "print()\n",
    "print(x)"
   ]
  },
  {
   "cell_type": "markdown",
   "metadata": {},
   "source": [
    "## Array reshaping"
   ]
  },
  {
   "cell_type": "code",
   "execution_count": 7,
   "metadata": {},
   "outputs": [
    {
     "name": "stdout",
     "output_type": "stream",
     "text": [
      "[1 2 3]\n",
      "\n"
     ]
    },
    {
     "data": {
      "text/plain": [
       "array([[1],\n",
       "       [2],\n",
       "       [3]])"
      ]
     },
     "execution_count": 7,
     "metadata": {},
     "output_type": "execute_result"
    }
   ],
   "source": [
    "import numpy as np\n",
    "x = np.array([1,2,3])\n",
    "print(x)\n",
    "\n",
    "print()\n",
    "#vertical reshape\n",
    "x.reshape((3,1))\n",
    "\n"
   ]
  },
  {
   "cell_type": "markdown",
   "metadata": {},
   "source": [
    "## Array concatenation"
   ]
  },
  {
   "cell_type": "markdown",
   "metadata": {},
   "source": [
    "#### concatenation of 1d arrays"
   ]
  },
  {
   "cell_type": "code",
   "execution_count": 8,
   "metadata": {},
   "outputs": [
    {
     "data": {
      "text/plain": [
       "array([ 1,  2,  3,  4,  5,  6,  7,  8, 99, 99, 99])"
      ]
     },
     "execution_count": 8,
     "metadata": {},
     "output_type": "execute_result"
    }
   ],
   "source": [
    "x = np.array([1,2,3,4])\n",
    "y = np.array([5,6,7,8])\n",
    "\n",
    "#concatenate 2 arrays\n",
    "np.concatenate([x,y])\n",
    "\n",
    "\n",
    "#concatenating more than 2 arrays\n",
    "z = np.array([99,99,99])\n",
    "\n",
    "np.concatenate([x,y,z])\n",
    "\n"
   ]
  },
  {
   "cell_type": "markdown",
   "metadata": {},
   "source": [
    "#### concatenation of 2d arrays"
   ]
  },
  {
   "cell_type": "code",
   "execution_count": 9,
   "metadata": {},
   "outputs": [
    {
     "name": "stdout",
     "output_type": "stream",
     "text": [
      "[[1 2 3 4 5]\n",
      " [5 6 7 8 9]\n",
      " [1 2 3 4 5]\n",
      " [5 6 7 8 9]]\n",
      "\n",
      "[[1 2 3 4 5 1 2 3 4 5]\n",
      " [5 6 7 8 9 5 6 7 8 9]]\n"
     ]
    }
   ],
   "source": [
    "x = np.array(([1,2,3,4,5], [5,6,7,8,9]))\n",
    "a = np.concatenate([x,x])\n",
    "print(a)\n",
    "\n",
    "print()\n",
    "#concatenating along the axis\n",
    "b = np.concatenate([x,x], axis=1)\n",
    "print(b)"
   ]
  },
  {
   "cell_type": "markdown",
   "metadata": {},
   "source": [
    "#### vertical stack and horizontal stack"
   ]
  },
  {
   "cell_type": "code",
   "execution_count": 10,
   "metadata": {},
   "outputs": [
    {
     "name": "stdout",
     "output_type": "stream",
     "text": [
      "[[1 2 3]\n",
      " [1 1 1]\n",
      " [1 1 1]\n",
      " [1 1 1]]\n",
      "\n",
      "[[ 1  1  1 99]\n",
      " [ 1  1  1 99]\n",
      " [ 1  1  1 99]]\n"
     ]
    }
   ],
   "source": [
    "x = np.array([1,2,3])\n",
    "a = np.ones((3,3), dtype=int)\n",
    "y = np.array([[99], [99], [99]])\n",
    "\n",
    "#vertical concatenation\n",
    "vert_stack = np.vstack([x, a])\n",
    "print(vert_stack)\n",
    "\n",
    "print()\n",
    "#horizontal concatentaion\n",
    "hori_stack = np.hstack([a,y])\n",
    "print(hori_stack)"
   ]
  },
  {
   "cell_type": "markdown",
   "metadata": {},
   "source": [
    "## Array splitting"
   ]
  },
  {
   "cell_type": "code",
   "execution_count": 11,
   "metadata": {},
   "outputs": [
    {
     "name": "stdout",
     "output_type": "stream",
     "text": [
      "[1 2 3] [4 5] [6 7 8 9]\n"
     ]
    }
   ],
   "source": [
    "x = ([1,2,3,4,5,6,7,8,9])\n",
    "\n",
    "#spliting the array into 3 sub array x1,x2,x3 \"np.split(array_to_split, [first_split, second_split ])\"\n",
    "x1,x2,x3 = np.split(x, [3,5])\n",
    "print(x1,x2,x3)"
   ]
  },
  {
   "cell_type": "code",
   "execution_count": 12,
   "metadata": {},
   "outputs": [
    {
     "name": "stdout",
     "output_type": "stream",
     "text": [
      "[[ 0  1  2  3]\n",
      " [ 4  5  6  7]\n",
      " [ 8  9 10 11]\n",
      " [12 13 14 15]]\n",
      "\n",
      "[[0 1 2 3]\n",
      " [4 5 6 7]] [[ 8  9 10 11]\n",
      " [12 13 14 15]]\n",
      "\n",
      "[[ 0  1]\n",
      " [ 4  5]\n",
      " [ 8  9]\n",
      " [12 13]] [[ 2  3]\n",
      " [ 6  7]\n",
      " [10 11]\n",
      " [14 15]]\n"
     ]
    }
   ],
   "source": [
    "x = np.arange(16).reshape((4,4))\n",
    "print(x)\n",
    "print()\n",
    "\n",
    "#split horizontally\n",
    "upper,lower = np.vsplit(x, [2])\n",
    "print(upper,lower)\n",
    "\n",
    "print()\n",
    "#splitvertically\n",
    "left,right = np.hsplit(x,[2])\n",
    "print(left,right)"
   ]
  },
  {
   "cell_type": "code",
   "execution_count": null,
   "metadata": {},
   "outputs": [],
   "source": []
  }
 ],
 "metadata": {
  "kernelspec": {
   "display_name": "Python 3",
   "language": "python",
   "name": "python3"
  },
  "language_info": {
   "codemirror_mode": {
    "name": "ipython",
    "version": 3
   },
   "file_extension": ".py",
   "mimetype": "text/x-python",
   "name": "python",
   "nbconvert_exporter": "python",
   "pygments_lexer": "ipython3",
   "version": "3.8.3"
  }
 },
 "nbformat": 4,
 "nbformat_minor": 4
}
