{
 "cells": [
  {
   "cell_type": "markdown",
   "metadata": {},
   "source": [
    "# Ufuncs in numPy"
   ]
  },
  {
   "cell_type": "markdown",
   "metadata": {},
   "source": [
    "## Array arithematic\n"
   ]
  },
  {
   "cell_type": "code",
   "execution_count": 33,
   "metadata": {},
   "outputs": [
    {
     "name": "stdout",
     "output_type": "stream",
     "text": [
      "x      = [0 1 2 3]\n",
      "x + 5  = [5 6 7 8]\n",
      "x - 5  = [-5 -4 -3 -2]\n",
      "x * 5  = [ 0  5 10 15]\n",
      "x / 2  = [0.  0.5 1.  1.5]\n",
      "x //2  = [0 0 1 1]\n",
      "\n",
      "x ** 2 = [0 1 4 9]\n",
      "x % 2  = [0 1 0 1]\n",
      "\n",
      "Absolute value\n",
      "[-1 -2 -3 -4]\n",
      "[1 2 3 4]\n",
      "\n",
      "For complex values\n",
      "[3.-4.j 4.-3.j 2.+0.j 0.+1.j]\n",
      "[5. 5. 2. 1.]\n"
     ]
    }
   ],
   "source": [
    "import numpy as np\n",
    "\n",
    "x = np.arange(4)\n",
    "print(\"x      =\", x)\n",
    "print(\"x + 5  =\", x + 5) #same as np.add(x,5)\n",
    "print(\"x - 5  =\", x - 5) #same as np.subtract(x,5)\n",
    "print(\"x * 5  =\", x * 5) #same as np.multiply(x,5)\n",
    "print(\"x / 2  =\", x / 2) #same as np.divide(x,2)\n",
    "print(\"x //2  =\", x//2)  #same as np.floor_divide(x,2)\n",
    "\n",
    "print()\n",
    "print(\"x ** 2 =\", x**2)  #same as np.power(x,2)\n",
    "print(\"x % 2  =\", x%2)   #same as np.mod(x,5)\n",
    "\n",
    "print()\n",
    "print(\"Absolute value\")\n",
    "y = np.array([-1,-2,-3,-4])\n",
    "print(y)\n",
    "a = np.abs(y)\n",
    "print(a)\n",
    "\n",
    "\n",
    "print()\n",
    "print(\"For complex values\")\n",
    "z = np.array([3-4j, 4-3j, 2+0j, 0+1j])\n",
    "print(z)\n",
    "zi = np.abs(z)\n",
    "print(zi)"
   ]
  },
  {
   "cell_type": "markdown",
   "metadata": {},
   "source": [
    "## Trignometric functions"
   ]
  },
  {
   "cell_type": "code",
   "execution_count": 42,
   "metadata": {},
   "outputs": [
    {
     "name": "stdout",
     "output_type": "stream",
     "text": [
      "theta       = [0.         1.57079633 3.14159265]\n",
      "sin(theta)  = [0.0000000e+00 1.0000000e+00 1.2246468e-16]\n",
      "cos(theta)  = [ 1.000000e+00  6.123234e-17 -1.000000e+00]\n",
      "tan(theta)  = [ 0.00000000e+00  1.63312394e+16 -1.22464680e-16]\n",
      "\n",
      "Inverse trignometric functions\n",
      "x       = [-1, 0, 1]\n",
      "arcsinx = [-1.57079633  0.          1.57079633]\n",
      "arccosx = [3.14159265 1.57079633 0.        ]\n",
      "arctanx = [-0.78539816  0.          0.78539816]\n"
     ]
    }
   ],
   "source": [
    "theta = np.linspace(0, np.pi, 3)\n",
    "\n",
    "print(\"theta       =\", theta)\n",
    "print(\"sin(theta)  =\", np.sin(theta))\n",
    "print(\"cos(theta)  =\", np.cos(theta))\n",
    "print(\"tan(theta)  =\", np.tan(theta))\n",
    "\n",
    "\n",
    "print()\n",
    "print(\"Inverse trignometric functions\")\n",
    "x = [-1,0,1]\n",
    "\n",
    "\n",
    "print(\"x       =\", x)\n",
    "print(\"arcsinx =\", np.arcsin(x))\n",
    "print(\"arccosx =\", np.arccos(x))\n",
    "print(\"arctanx =\", np.arctan(x))\n"
   ]
  },
  {
   "cell_type": "markdown",
   "metadata": {},
   "source": [
    "## Exponentials and Logs"
   ]
  },
  {
   "cell_type": "code",
   "execution_count": 45,
   "metadata": {},
   "outputs": [
    {
     "name": "stdout",
     "output_type": "stream",
     "text": [
      "x   = [1, 2, 3]\n",
      "e^x = [ 2.71828183  7.3890561  20.08553692]\n",
      "2^x = [2. 4. 8.]\n",
      "3^x = [ 3  9 27]\n"
     ]
    }
   ],
   "source": [
    "x = [1,2,3]\n",
    "print(\"x   =\", x)\n",
    "print(\"e^x =\", np.exp(x))\n",
    "print(\"2^x =\", np.exp2(x))\n",
    "print(\"3^x =\",np.power(3,x))\n"
   ]
  },
  {
   "cell_type": "code",
   "execution_count": 47,
   "metadata": {},
   "outputs": [
    {
     "name": "stdout",
     "output_type": "stream",
     "text": [
      "x       = [1, 2, 3]\n",
      "log(x)  = [0.         0.69314718 1.09861229]\n",
      "log2(x) = [0.        1.        1.5849625]\n",
      "log10(x)= [0.         0.30103    0.47712125]\n"
     ]
    }
   ],
   "source": [
    "x = [1,2,3]\n",
    "print(\"x       =\", x)\n",
    "print(\"log(x)  =\", np.log(x))\n",
    "print(\"log2(x) =\", np.log2(x))\n",
    "print(\"log10(x)=\", np.log10(x))"
   ]
  },
  {
   "cell_type": "markdown",
   "metadata": {},
   "source": [
    "## Specialized ufuncs"
   ]
  },
  {
   "cell_type": "code",
   "execution_count": null,
   "metadata": {},
   "outputs": [],
   "source": []
  }
 ],
 "metadata": {
  "kernelspec": {
   "display_name": "Python 3",
   "language": "python",
   "name": "python3"
  },
  "language_info": {
   "codemirror_mode": {
    "name": "ipython",
    "version": 3
   },
   "file_extension": ".py",
   "mimetype": "text/x-python",
   "name": "python",
   "nbconvert_exporter": "python",
   "pygments_lexer": "ipython3",
   "version": "3.8.3"
  }
 },
 "nbformat": 4,
 "nbformat_minor": 4
}
