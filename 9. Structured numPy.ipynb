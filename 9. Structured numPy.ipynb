{
 "cells": [
  {
   "cell_type": "markdown",
   "metadata": {},
   "source": [
    "# Structured numPy"
   ]
  },
  {
   "cell_type": "markdown",
   "metadata": {},
   "source": [
    "## Create structured array"
   ]
  },
  {
   "cell_type": "code",
   "execution_count": 1,
   "metadata": {},
   "outputs": [
    {
     "name": "stdout",
     "output_type": "stream",
     "text": [
      "[('name', '<U10'), ('age', '<i4'), ('weight', '<f8')]\n",
      "[('ray', 11, 56.) ('jp', 23, 78.) ('hb', 45, 90.)]\n"
     ]
    }
   ],
   "source": [
    "import numpy as np\n",
    "name = [\"ray\", \"jp\", \"hb\"]\n",
    "age = [11,23,45]\n",
    "weight = [56,78,90]\n",
    "\n",
    "data = np.zeros(3, dtype=([('name', 'U10'), ('age', 'i4'), ('weight', 'f8')])) \n",
    "print(data.dtype)\n",
    "\n",
    "data['name'] = name\n",
    "data['age'] = age\n",
    "data['weight'] = weight\n",
    "\n",
    "print(data)"
   ]
  },
  {
   "cell_type": "markdown",
   "metadata": {},
   "source": [
    "## Automated structured array\n"
   ]
  },
  {
   "cell_type": "code",
   "execution_count": 2,
   "metadata": {},
   "outputs": [
    {
     "name": "stdout",
     "output_type": "stream",
     "text": [
      "Enter the number of entries you want to create\n",
      "2\n",
      "Enter the name of number: 1 entry\n",
      "raj\n",
      "Enter the age of raj\n",
      "22\n",
      "Enter the weight of raj\n",
      "100\n",
      "Enter the name of number: 2 entry\n",
      "rag\n",
      "Enter the age of rag\n",
      "24\n",
      "Enter the weight of rag\n",
      "56\n",
      "[('raj', 22, 100.) ('rag', 24,  56.)]\n"
     ]
    }
   ],
   "source": [
    "import numpy as np\n",
    "namehelper = []\n",
    "agehelper = []\n",
    "weighthelper = []\n",
    "print(\"Enter the number of entries you want to create\")\n",
    "n = int(input())\n",
    "\n",
    "name = np.zeros(n)\n",
    "age = np.zeros(n)\n",
    "weight = np.zeros(n)\n",
    "count = 1\n",
    "while(count<=n):\n",
    "    print(\"Enter the name of number:\", count, \"entry\")\n",
    "    name_ele = input()\n",
    "    namehelper.append(name_ele)\n",
    "\n",
    "    print(\"Enter the age of\", name_ele)\n",
    "    age_ele = int(input())\n",
    "    agehelper.append(age_ele)\n",
    "\n",
    "    print(\"Enter the weight of\", name_ele)\n",
    "    weight_ele = input()\n",
    "    weighthelper.append(weight_ele)\n",
    "    count = count + 1\n",
    "\n",
    "\n",
    "final_data = np.zeros(n, dtype=([('name', 'U10'), ('age', 'i4'), ('weight', 'f8')]))\n",
    "final_data['name'] = namehelper\n",
    "final_data['age'] = agehelper\n",
    "final_data['weight'] = weighthelper\n",
    "\n",
    "print(final_data)"
   ]
  },
  {
   "cell_type": "code",
   "execution_count": null,
   "metadata": {},
   "outputs": [],
   "source": []
  }
 ],
 "metadata": {
  "kernelspec": {
   "display_name": "Python 3",
   "language": "python",
   "name": "python3"
  },
  "language_info": {
   "codemirror_mode": {
    "name": "ipython",
    "version": 3
   },
   "file_extension": ".py",
   "mimetype": "text/x-python",
   "name": "python",
   "nbconvert_exporter": "python",
   "pygments_lexer": "ipython3",
   "version": "3.8.3"
  }
 },
 "nbformat": 4,
 "nbformat_minor": 4
}
