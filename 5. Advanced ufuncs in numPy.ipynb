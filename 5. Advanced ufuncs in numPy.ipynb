{
 "cells": [
  {
   "cell_type": "markdown",
   "metadata": {},
   "source": [
    "\n",
    "# Advanced ufuncs in numPy"
   ]
  },
  {
   "cell_type": "markdown",
   "metadata": {},
   "source": [
    "## Specifying outputs\n",
    "#### same memory could be utilized to store the result, without creating a new one"
   ]
  },
  {
   "cell_type": "code",
   "execution_count": 1,
   "metadata": {},
   "outputs": [
    {
     "name": "stdout",
     "output_type": "stream",
     "text": [
      "[ 0. 10. 20. 30. 40.]\n"
     ]
    }
   ],
   "source": [
    "import numpy as np\n",
    "\n",
    "x = np.arange(5)\n",
    "y = np.empty(5)\n",
    "\n",
    "a = np.multiply(x, 10, out=y)\n",
    "print(y)\n"
   ]
  },
  {
   "cell_type": "markdown",
   "metadata": {},
   "source": [
    "# 1D Aggregates \n",
    "### Reduce"
   ]
  },
  {
   "cell_type": "code",
   "execution_count": 2,
   "metadata": {},
   "outputs": [
    {
     "name": "stdout",
     "output_type": "stream",
     "text": [
      "[1 2 3 4 5]\n",
      "\n",
      "Addition + reduce\n",
      "15\n",
      "\n",
      "Multiplication + reduce\n",
      "120\n",
      "\n"
     ]
    }
   ],
   "source": [
    "import numpy as np\n",
    "x = np.arange(1, 6)\n",
    "print(x)\n",
    "\n",
    "print()\n",
    "print(\"Addition + reduce\")\n",
    "a = np.add.reduce(x)\n",
    "print(a)\n",
    "\n",
    "print()\n",
    "print(\"Multiplication + reduce\")\n",
    "b = np.multiply.reduce(x)\n",
    "print(b)\n",
    "\n",
    "print()"
   ]
  },
  {
   "cell_type": "markdown",
   "metadata": {},
   "source": [
    "### accumulate"
   ]
  },
  {
   "cell_type": "code",
   "execution_count": 3,
   "metadata": {},
   "outputs": [
    {
     "name": "stdout",
     "output_type": "stream",
     "text": [
      "[1 2 3 4 5]\n",
      "\n",
      "add + reduce\n",
      "[ 1  3  6 10 15]\n",
      "\n",
      "Multiplication + reduce\n",
      "[  1   2   6  24 120]\n",
      "\n",
      "Outer products\n",
      "[[ 1  2  3  4  5]\n",
      " [ 2  4  6  8 10]\n",
      " [ 3  6  9 12 15]\n",
      " [ 4  8 12 16 20]\n",
      " [ 5 10 15 20 25]]\n"
     ]
    }
   ],
   "source": [
    "x = np.arange(1,6)\n",
    "print(x)\n",
    "\n",
    "print()\n",
    "print(\"add + reduce\")\n",
    "b = np.add.accumulate(x)\n",
    "print(b)\n",
    "\n",
    "print()\n",
    "print(\"Multiplication + reduce\")\n",
    "b = np.multiply.accumulate(x)\n",
    "print(b)\n",
    "\n",
    "\n",
    "print()\n",
    "print(\"Outer products\")\n",
    "c = np.multiply.outer(x,x)\n",
    "print(c)"
   ]
  },
  {
   "cell_type": "markdown",
   "metadata": {},
   "source": [
    "## Aggregations: Min, Max.."
   ]
  },
  {
   "cell_type": "code",
   "execution_count": 4,
   "metadata": {},
   "outputs": [
    {
     "name": "stdout",
     "output_type": "stream",
     "text": [
      "[0.10747079 0.19390124 0.91497763 0.66619331 0.75357374 0.60056552\n",
      " 0.80650431 0.54604665 0.5367084  0.67561055 0.8332968  0.18156064\n",
      " 0.83864739 0.46727064 0.84321763 0.85558397 0.0508513  0.16182543\n",
      " 0.88204138 0.78370342 0.65434143 0.91150176 0.01941742 0.86470049\n",
      " 0.21215497 0.52760534 0.13284112 0.40128798 0.4715584  0.06457775\n",
      " 0.50516678 0.32590487 0.27763353 0.09615642 0.77141934 0.54836006\n",
      " 0.58388201 0.9550763  0.52487626 0.77794304 0.06514189 0.95949488\n",
      " 0.52947048 0.16871145 0.02791238 0.78925623 0.48652273 0.26083751\n",
      " 0.56176847 0.40060177 0.51772822 0.2316868  0.77690198 0.5713617\n",
      " 0.145834   0.97176013 0.65963093 0.12607274 0.59169353 0.58634829\n",
      " 0.59183469 0.57573348 0.61854457 0.41987061 0.56213251 0.42700501\n",
      " 0.63229146 0.62532885 0.77703392 0.73958119 0.31021018 0.35873155\n",
      " 0.2442449  0.72735515 0.01179677 0.8375409  0.01588665 0.92072402\n",
      " 0.11474422 0.05178936 0.29099427 0.35008561 0.18131194 0.63334531\n",
      " 0.42685285 0.46578138 0.89902237 0.64608808 0.22899697 0.62177635\n",
      " 0.94163327 0.00534711 0.72111813 0.73788068 0.83503973 0.04387867\n",
      " 0.78558729 0.39636229 0.56959926 0.35279742]\n",
      "\n",
      "50.4505710750002\n",
      "\n",
      "Min function\n",
      "0.0053471077621578544\n",
      "\n",
      "Max function\n",
      "0.9717601331493588\n"
     ]
    }
   ],
   "source": [
    "import numpy as np\n",
    "L = np.random.random(100)\n",
    "print(L)\n",
    "\n",
    "print()\n",
    "c = np.sum(L)\n",
    "print(c)\n",
    "\n",
    "\n",
    "print()\n",
    "print(\"Min function\")\n",
    "c = np.min(L)\n",
    "print(c)\n",
    "\n",
    "print()\n",
    "print(\"Max function\")\n",
    "d = np.max(L)\n",
    "print(d)"
   ]
  },
  {
   "cell_type": "markdown",
   "metadata": {},
   "source": [
    "# 2D Aggregates"
   ]
  },
  {
   "cell_type": "code",
   "execution_count": 5,
   "metadata": {},
   "outputs": [
    {
     "name": "stdout",
     "output_type": "stream",
     "text": [
      "[[0.27319919 0.55095401 0.36484558 0.92590026]\n",
      " [0.01348752 0.03998254 0.58610732 0.37856855]\n",
      " [0.36475248 0.83989361 0.71769945 0.10805331]]\n",
      "\n",
      "5.1634438362481045\n",
      "\n",
      "0.9259002623110414\n",
      "\n",
      "0.013487519041082252\n"
     ]
    }
   ],
   "source": [
    "m = np.random.random((3,4))\n",
    "print(m)\n",
    "\n",
    "print()\n",
    "n = np.sum(m)\n",
    "print(n)\n",
    "\n",
    "print()\n",
    "n = np.max(m)\n",
    "print(n)\n",
    "\n",
    "print()\n",
    "n = np.min(m)\n",
    "print(n)"
   ]
  }
 ],
 "metadata": {
  "kernelspec": {
   "display_name": "Python 3",
   "language": "python",
   "name": "python3"
  },
  "language_info": {
   "codemirror_mode": {
    "name": "ipython",
    "version": 3
   },
   "file_extension": ".py",
   "mimetype": "text/x-python",
   "name": "python",
   "nbconvert_exporter": "python",
   "pygments_lexer": "ipython3",
   "version": "3.8.3"
  }
 },
 "nbformat": 4,
 "nbformat_minor": 4
}
